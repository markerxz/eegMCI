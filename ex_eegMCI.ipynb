{
 "cells": [
  {
   "cell_type": "code",
   "execution_count": 1,
   "id": "d5212adb-4c3a-4198-863b-96100f80cd90",
   "metadata": {},
   "outputs": [],
   "source": [
    "import eegMCI\n",
    "import mne"
   ]
  },
  {
   "cell_type": "code",
   "execution_count": 2,
   "id": "646ea27d-796b-4aef-9170-d9c8dd037a35",
   "metadata": {},
   "outputs": [],
   "source": [
    "mne.set_log_level('CRITICAL')\n",
    "subjectID_list = eegMCI.subjectIDs()\n",
    "T = eegMCI.TT()\n",
    "all_chs = eegMCI.all_chs()"
   ]
  },
  {
   "cell_type": "code",
   "execution_count": 3,
   "id": "706fd775-1ed7-4821-a226-0d21d47d0518",
   "metadata": {},
   "outputs": [
    {
     "name": "stdout",
     "output_type": "stream",
     "text": [
      "Healthy : ['1131', '1167', '1189', '1243', '1260', '1261', '1353', '1357', '1358', '1367', '1368', '1374', '1375', '1376', '1379', '1380', '1382', '1383', '1384', '1385', '1386', '1387', '1388', '1391', '1392', '1393', '1395', '1396', '1397', '1398', '1400', '1402', '1403', '1405', '1406', '1407', '1409', '1602', '2172', '3018', '4501', '4503', '4504', '4505', '4510', '4511', '4513', '4514', '4515', '4518', '4519', '4521', '4523', '4524', '4531', '4532', '4533', '4534', '4537', '4541']\n",
      "MCI : ['4502', '4506', '4507', '4508', '4509', '4512', '4516', '4517', '4520', '4522', '4526', '4527', '4529', '4530', '4535', '4536', '4538', '4539', '4544', '4545', '4548', '4549']\n"
     ]
    }
   ],
   "source": [
    "for MCH in subjectID_list:\n",
    "    print(f'{MCH} : {subjectID_list[MCH]}')"
   ]
  },
  {
   "cell_type": "code",
   "execution_count": 45,
   "id": "78ad905a-4232-4188-85e7-2690020f2d50",
   "metadata": {},
   "outputs": [
    {
     "data": {
      "text/html": [
       "<div>\n",
       "<style scoped>\n",
       "    .dataframe tbody tr th:only-of-type {\n",
       "        vertical-align: middle;\n",
       "    }\n",
       "\n",
       "    .dataframe tbody tr th {\n",
       "        vertical-align: top;\n",
       "    }\n",
       "\n",
       "    .dataframe thead th {\n",
       "        text-align: right;\n",
       "    }\n",
       "</style>\n",
       "<table border=\"1\" class=\"dataframe\">\n",
       "  <thead>\n",
       "    <tr style=\"text-align: right;\">\n",
       "      <th></th>\n",
       "      <th>cueloc</th>\n",
       "      <th>salientloc</th>\n",
       "      <th>coninc</th>\n",
       "      <th>RT</th>\n",
       "      <th>hit</th>\n",
       "      <th>isi</th>\n",
       "      <th>index</th>\n",
       "      <th>reject</th>\n",
       "      <th>cond</th>\n",
       "      <th>cue-di</th>\n",
       "    </tr>\n",
       "  </thead>\n",
       "  <tbody>\n",
       "    <tr>\n",
       "      <th>0</th>\n",
       "      <td>8</td>\n",
       "      <td>2</td>\n",
       "      <td>2</td>\n",
       "      <td>1.050138</td>\n",
       "      <td>1</td>\n",
       "      <td>0.411429</td>\n",
       "      <td>0</td>\n",
       "      <td>0</td>\n",
       "      <td>LSA2</td>\n",
       "      <td>L</td>\n",
       "    </tr>\n",
       "    <tr>\n",
       "      <th>1</th>\n",
       "      <td>11</td>\n",
       "      <td>0</td>\n",
       "      <td>2</td>\n",
       "      <td>0.783376</td>\n",
       "      <td>1</td>\n",
       "      <td>0.582857</td>\n",
       "      <td>1</td>\n",
       "      <td>0</td>\n",
       "      <td>RNS2</td>\n",
       "      <td>R</td>\n",
       "    </tr>\n",
       "    <tr>\n",
       "      <th>2</th>\n",
       "      <td>7</td>\n",
       "      <td>4</td>\n",
       "      <td>2</td>\n",
       "      <td>0.633344</td>\n",
       "      <td>1</td>\n",
       "      <td>0.520000</td>\n",
       "      <td>2</td>\n",
       "      <td>0</td>\n",
       "      <td>LSA2</td>\n",
       "      <td>L</td>\n",
       "    </tr>\n",
       "    <tr>\n",
       "      <th>3</th>\n",
       "      <td>2</td>\n",
       "      <td>4</td>\n",
       "      <td>2</td>\n",
       "      <td>0.583442</td>\n",
       "      <td>1</td>\n",
       "      <td>0.565714</td>\n",
       "      <td>3</td>\n",
       "      <td>0</td>\n",
       "      <td>RSA2</td>\n",
       "      <td>R</td>\n",
       "    </tr>\n",
       "    <tr>\n",
       "      <th>4</th>\n",
       "      <td>11</td>\n",
       "      <td>5</td>\n",
       "      <td>1</td>\n",
       "      <td>0.783433</td>\n",
       "      <td>1</td>\n",
       "      <td>0.405714</td>\n",
       "      <td>4</td>\n",
       "      <td>0</td>\n",
       "      <td>RSA1</td>\n",
       "      <td>R</td>\n",
       "    </tr>\n",
       "    <tr>\n",
       "      <th>...</th>\n",
       "      <td>...</td>\n",
       "      <td>...</td>\n",
       "      <td>...</td>\n",
       "      <td>...</td>\n",
       "      <td>...</td>\n",
       "      <td>...</td>\n",
       "      <td>...</td>\n",
       "      <td>...</td>\n",
       "      <td>...</td>\n",
       "      <td>...</td>\n",
       "    </tr>\n",
       "    <tr>\n",
       "      <th>571</th>\n",
       "      <td>4</td>\n",
       "      <td>0</td>\n",
       "      <td>2</td>\n",
       "      <td>0.600122</td>\n",
       "      <td>1</td>\n",
       "      <td>0.480000</td>\n",
       "      <td>571</td>\n",
       "      <td>0</td>\n",
       "      <td>X</td>\n",
       "      <td>M</td>\n",
       "    </tr>\n",
       "    <tr>\n",
       "      <th>572</th>\n",
       "      <td>7</td>\n",
       "      <td>0</td>\n",
       "      <td>2</td>\n",
       "      <td>0.666757</td>\n",
       "      <td>1</td>\n",
       "      <td>0.560000</td>\n",
       "      <td>572</td>\n",
       "      <td>0</td>\n",
       "      <td>LNS2</td>\n",
       "      <td>L</td>\n",
       "    </tr>\n",
       "    <tr>\n",
       "      <th>573</th>\n",
       "      <td>2</td>\n",
       "      <td>0</td>\n",
       "      <td>1</td>\n",
       "      <td>0.533347</td>\n",
       "      <td>1</td>\n",
       "      <td>0.525714</td>\n",
       "      <td>573</td>\n",
       "      <td>0</td>\n",
       "      <td>RNS1</td>\n",
       "      <td>R</td>\n",
       "    </tr>\n",
       "    <tr>\n",
       "      <th>574</th>\n",
       "      <td>8</td>\n",
       "      <td>4</td>\n",
       "      <td>2</td>\n",
       "      <td>0.533471</td>\n",
       "      <td>1</td>\n",
       "      <td>0.520000</td>\n",
       "      <td>574</td>\n",
       "      <td>0</td>\n",
       "      <td>LSA2</td>\n",
       "      <td>L</td>\n",
       "    </tr>\n",
       "    <tr>\n",
       "      <th>575</th>\n",
       "      <td>1</td>\n",
       "      <td>1</td>\n",
       "      <td>1</td>\n",
       "      <td>0.649993</td>\n",
       "      <td>1</td>\n",
       "      <td>0.577143</td>\n",
       "      <td>575</td>\n",
       "      <td>0</td>\n",
       "      <td>X</td>\n",
       "      <td>R</td>\n",
       "    </tr>\n",
       "  </tbody>\n",
       "</table>\n",
       "<p>576 rows × 10 columns</p>\n",
       "</div>"
      ],
      "text/plain": [
       "     cueloc  salientloc  coninc        RT  hit       isi  index  reject  cond  \\\n",
       "0         8           2       2  1.050138    1  0.411429      0       0  LSA2   \n",
       "1        11           0       2  0.783376    1  0.582857      1       0  RNS2   \n",
       "2         7           4       2  0.633344    1  0.520000      2       0  LSA2   \n",
       "3         2           4       2  0.583442    1  0.565714      3       0  RSA2   \n",
       "4        11           5       1  0.783433    1  0.405714      4       0  RSA1   \n",
       "..      ...         ...     ...       ...  ...       ...    ...     ...   ...   \n",
       "571       4           0       2  0.600122    1  0.480000    571       0     X   \n",
       "572       7           0       2  0.666757    1  0.560000    572       0  LNS2   \n",
       "573       2           0       1  0.533347    1  0.525714    573       0  RNS1   \n",
       "574       8           4       2  0.533471    1  0.520000    574       0  LSA2   \n",
       "575       1           1       1  0.649993    1  0.577143    575       0     X   \n",
       "\n",
       "    cue-di  \n",
       "0        L  \n",
       "1        R  \n",
       "2        L  \n",
       "3        R  \n",
       "4        R  \n",
       "..     ...  \n",
       "571      M  \n",
       "572      L  \n",
       "573      R  \n",
       "574      L  \n",
       "575      R  \n",
       "\n",
       "[576 rows x 10 columns]"
      ]
     },
     "execution_count": 45,
     "metadata": {},
     "output_type": "execute_result"
    }
   ],
   "source": [
    "df = eegMCI.df_subject_query('4501')\n",
    "df"
   ]
  },
  {
   "cell_type": "code",
   "execution_count": 14,
   "id": "7f88a998-49d4-4c36-9d61-e22e766ecec6",
   "metadata": {},
   "outputs": [],
   "source": [
    "epochs = eegMCI.subject_query('4506','target_lock')"
   ]
  },
  {
   "cell_type": "code",
   "execution_count": 15,
   "id": "6dc18083-1d4b-46d3-949b-f34e6f041e1d",
   "metadata": {},
   "outputs": [
    {
     "name": "stdout",
     "output_type": "stream",
     "text": [
      "LNS1 : (39, 64, 3073)\n",
      "LNS2 : (36, 64, 3073)\n",
      "RNS1 : (35, 64, 3073)\n",
      "RNS2 : (38, 64, 3073)\n",
      "LSA1 : (44, 64, 3073)\n",
      "LSA2 : (34, 64, 3073)\n",
      "RSA1 : (43, 64, 3073)\n",
      "RSA2 : (33, 64, 3073)\n"
     ]
    }
   ],
   "source": [
    "for key in epochs:\n",
    "    print(f'{key} : {epochs[key].shape}')"
   ]
  },
  {
   "cell_type": "code",
   "execution_count": 16,
   "id": "d383d2ca-cbd4-4c5f-aa80-9fcaa4b5dca4",
   "metadata": {},
   "outputs": [],
   "source": [
    "epochs2 = eegMCI.subject_query('4509','target_lock')"
   ]
  },
  {
   "cell_type": "code",
   "execution_count": 17,
   "id": "10868162-3769-4a73-b99e-e87995afeb5f",
   "metadata": {},
   "outputs": [
    {
     "name": "stdout",
     "output_type": "stream",
     "text": [
      "LNS1 : (36, 64, 3073)\n",
      "LNS2 : (37, 64, 3073)\n",
      "RNS1 : (41, 64, 3073)\n",
      "RNS2 : (42, 64, 3073)\n",
      "LSA1 : (40, 64, 3073)\n",
      "LSA2 : (37, 64, 3073)\n",
      "RSA1 : (46, 64, 3073)\n",
      "RSA2 : (36, 64, 3073)\n"
     ]
    }
   ],
   "source": [
    "for key in epochs2:\n",
    "    print(f'{key} : {epochs2[key].shape}')"
   ]
  },
  {
   "cell_type": "code",
   "execution_count": 42,
   "id": "1c72503e-fcb5-4f61-8ef3-092ec4f0007c",
   "metadata": {},
   "outputs": [],
   "source": [
    "def plot_ERP (epochs,cond,ch,time_window = (-2,4)):\n",
    "    import matplotlib.pyplot as plt\n",
    "    chi = all_chs[ch]\n",
    "    ERP = epochs[cond][:,chi,:]\n",
    "    ERP = ERP.mean(0)\n",
    "    fig,ax = plt.subplots()\n",
    "    ax.plot(T,ERP)\n",
    "    ax.set_xlabel('Time(S)')\n",
    "    ax.set_ylabel('Amplitude(V)')\n",
    "    ax.set_xlim(time_window)\n",
    "    fig.suptitle(f'{cond} - {ch} - {time_window}')\n",
    "    fig.tight_layout()\n",
    "    fig.show()\n",
    "    "
   ]
  },
  {
   "cell_type": "code",
   "execution_count": 43,
   "id": "d7f315a5-3b14-4a56-a15a-53dccf13a2a5",
   "metadata": {},
   "outputs": [
    {
     "data": {
      "image/png": "[encoded data removed]",
      "text/plain": [
       "<Figure size 640x480 with 1 Axes>"
      ]
     },
     "metadata": {},
     "output_type": "display_data"
    }
   ],
   "source": [
    "plot_ERP(epochs,'RSA1','AFz')"
   ]
  },
  {
   "cell_type": "code",
   "execution_count": null,
   "id": "ec7edea6-c9e2-4e8d-a508-58ab1367723b",
   "metadata": {},
   "outputs": [],
   "source": []
  }
 ],
 "metadata": {
  "kernelspec": {
   "display_name": "Python 3 (ipykernel)",
   "language": "python",
   "name": "python3"
  },
  "language_info": {
   "codemirror_mode": {
    "name": "ipython",
    "version": 3
   },
   "file_extension": ".py",
   "mimetype": "text/x-python",
   "name": "python",
   "nbconvert_exporter": "python",
   "pygments_lexer": "ipython3",
   "version": "3.9.13"
  }
 },
 "nbformat": 4,
 "nbformat_minor": 5
}
